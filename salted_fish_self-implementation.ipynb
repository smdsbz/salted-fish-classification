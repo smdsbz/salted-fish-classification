{
 "cells": [
  {
   "cell_type": "markdown",
   "metadata": {},
   "source": [
    "# Salted Fish Classification"
   ]
  },
  {
   "cell_type": "code",
   "execution_count": 1,
   "metadata": {
    "scrolled": true
   },
   "outputs": [
    {
     "data": {
      "text/html": [
       "<div>\n",
       "<style scoped>\n",
       "    .dataframe tbody tr th:only-of-type {\n",
       "        vertical-align: middle;\n",
       "    }\n",
       "\n",
       "    .dataframe tbody tr th {\n",
       "        vertical-align: top;\n",
       "    }\n",
       "\n",
       "    .dataframe thead th {\n",
       "        text-align: right;\n",
       "    }\n",
       "</style>\n",
       "<table border=\"1\" class=\"dataframe\">\n",
       "  <thead>\n",
       "    <tr style=\"text-align: right;\">\n",
       "      <th></th>\n",
       "      <th>0</th>\n",
       "      <th>1</th>\n",
       "      <th>2</th>\n",
       "      <th>3</th>\n",
       "      <th>4</th>\n",
       "      <th>5</th>\n",
       "      <th>6</th>\n",
       "      <th>7</th>\n",
       "      <th>8</th>\n",
       "    </tr>\n",
       "  </thead>\n",
       "  <tbody>\n",
       "    <tr>\n",
       "      <th>0</th>\n",
       "      <td>0.156</td>\n",
       "      <td>5</td>\n",
       "      <td>35.8</td>\n",
       "      <td>82.0</td>\n",
       "      <td>42.0</td>\n",
       "      <td>77.0</td>\n",
       "      <td>41.0</td>\n",
       "      <td>35</td>\n",
       "      <td>0</td>\n",
       "    </tr>\n",
       "    <tr>\n",
       "      <th>2</th>\n",
       "      <td>0.283</td>\n",
       "      <td>1</td>\n",
       "      <td>26.6</td>\n",
       "      <td>72.0</td>\n",
       "      <td>40.0</td>\n",
       "      <td>81.0</td>\n",
       "      <td>18.0</td>\n",
       "      <td>24</td>\n",
       "      <td>0</td>\n",
       "    </tr>\n",
       "    <tr>\n",
       "      <th>3</th>\n",
       "      <td>0.463</td>\n",
       "      <td>4</td>\n",
       "      <td>22.1</td>\n",
       "      <td>72.0</td>\n",
       "      <td>87.0</td>\n",
       "      <td>116.0</td>\n",
       "      <td>12.0</td>\n",
       "      <td>37</td>\n",
       "      <td>0</td>\n",
       "    </tr>\n",
       "    <tr>\n",
       "      <th>4</th>\n",
       "      <td>0.352</td>\n",
       "      <td>0</td>\n",
       "      <td>26.4</td>\n",
       "      <td>58.0</td>\n",
       "      <td>291.0</td>\n",
       "      <td>134.0</td>\n",
       "      <td>20.0</td>\n",
       "      <td>21</td>\n",
       "      <td>0</td>\n",
       "    </tr>\n",
       "    <tr>\n",
       "      <th>5</th>\n",
       "      <td>0.400</td>\n",
       "      <td>3</td>\n",
       "      <td>30.8</td>\n",
       "      <td>44.0</td>\n",
       "      <td>94.0</td>\n",
       "      <td>102.0</td>\n",
       "      <td>20.0</td>\n",
       "      <td>26</td>\n",
       "      <td>0</td>\n",
       "    </tr>\n",
       "  </tbody>\n",
       "</table>\n",
       "</div>"
      ],
      "text/plain": [
       "       0  1     2     3      4      5     6   7  8\n",
       "0  0.156  5  35.8  82.0   42.0   77.0  41.0  35  0\n",
       "2  0.283  1  26.6  72.0   40.0   81.0  18.0  24  0\n",
       "3  0.463  4  22.1  72.0   87.0  116.0  12.0  37  0\n",
       "4  0.352  0  26.4  58.0  291.0  134.0  20.0  21  0\n",
       "5  0.400  3  30.8  44.0   94.0  102.0  20.0  26  0"
      ]
     },
     "execution_count": 1,
     "metadata": {},
     "output_type": "execute_result"
    }
   ],
   "source": [
    "import pandas as pd\n",
    "import numpy as np\n",
    "import matplotlib.pyplot as plt\n",
    "\n",
    "%matplotlib inline\n",
    "\n",
    "# NOTE: `header=None`, I dun give a f*** bout what the data is\n",
    "training_set = pd.read_csv('./salted_fish_train.csv', header=None).dropna()\n",
    "test_set = pd.read_csv('./salted_fish_test.csv', header=None)\n",
    "\n",
    "training_set.head()"
   ]
  },
  {
   "cell_type": "code",
   "execution_count": 2,
   "metadata": {},
   "outputs": [],
   "source": [
    "data_highests = training_set.iloc[:, :-1].max(0)\n",
    "data_lowests = training_set.iloc[:, :-1].min(0)\n",
    "# print(data_highests)\n",
    "# print(data_lowests)"
   ]
  },
  {
   "cell_type": "markdown",
   "metadata": {},
   "source": [
    "## Basic Helper Functions"
   ]
  },
  {
   "cell_type": "code",
   "execution_count": 3,
   "metadata": {},
   "outputs": [],
   "source": [
    "def normalize(orig, ceil, floor):\n",
    "    return (orig - floor) / (ceil - floor) - 0.5\n",
    "\n",
    "# normalize(10, 100, 1)"
   ]
  },
  {
   "cell_type": "code",
   "execution_count": 4,
   "metadata": {},
   "outputs": [],
   "source": [
    "def sigmoid(x):\n",
    "    return (1. / (1. + np.exp(-x)))\n",
    "\n",
    "# sigmoid(10.0)"
   ]
  },
  {
   "cell_type": "code",
   "execution_count": 5,
   "metadata": {},
   "outputs": [],
   "source": [
    "def cross_entropy(x, y):\n",
    "    x, y = np.array(x), np.array(y)\n",
    "    return (y - 1) * np.log(1 - x) - y * np.log(x)\n",
    "\n",
    "# cross_entropy(np.array([0.9, 0.1, 0.9, 0.1]), np.array([1, 1, 0, 0]))"
   ]
  },
  {
   "cell_type": "code",
   "execution_count": 6,
   "metadata": {},
   "outputs": [],
   "source": [
    "def derivative_cross_entropy(x, y):\n",
    "    x, y = np.array(x).reshape(1, -1), np.array(y).reshape(1, -1)\n",
    "    return (y - 1) / (x - 1) - y / x\n",
    "\n",
    "# derivative_cross_entropy(0.9, 1)"
   ]
  },
  {
   "cell_type": "code",
   "execution_count": 7,
   "metadata": {},
   "outputs": [],
   "source": [
    "from random import randint\n",
    "\n",
    "def approx_gauss_normalize(x, mean=0.0, sigma=1.0):\n",
    "    return (sigmoid(x - mean) - 0.5) * sigma\n",
    "\n",
    "# approx_gauss_normalize(randint(-100, 100) / 100, sigma=4.0)"
   ]
  },
  {
   "cell_type": "code",
   "execution_count": 8,
   "metadata": {},
   "outputs": [],
   "source": [
    "def softmax(x):\n",
    "    total_score = np.sum(x)\n",
    "    return x / total_score\n",
    "\n",
    "# softmax([1, 2, 3])"
   ]
  },
  {
   "cell_type": "markdown",
   "metadata": {},
   "source": [
    "## Define Models"
   ]
  },
  {
   "cell_type": "code",
   "execution_count": 9,
   "metadata": {},
   "outputs": [],
   "source": [
    "class LinearLayer:\n",
    "    \n",
    "    def __init__(self, in_node, out_node,\n",
    "                 name=None,\n",
    "                 random_init=True, dropout_rate=False,\n",
    "                 learning_rate=1e-2):\n",
    "        self._name = name or 'LinearLayer'\n",
    "        self._weights = np.random.randn(in_node + 1, out_node) if random_init else np.zeros((in_node + 1, out_node))\n",
    "        self._weights[-1] = 1 # bias term\n",
    "        self._out = np.zeros((out_node, 1))\n",
    "        self._dropout_rate = dropout_rate\n",
    "        self._learning_rate = learning_rate\n",
    "        self._next = None\n",
    "        self._prev = None\n",
    "    \n",
    "    @property\n",
    "    def shape(self):\n",
    "        return self._weights.shape\n",
    "    \n",
    "    def forward(self, x):\n",
    "        # `x` is array or row vector ==> (x1, x2, ...)\n",
    "        #     or of shape (None, input_dimension)\n",
    "        new_x = None\n",
    "        if len(x.shape) == 1: # seires\n",
    "            new_x = np.append(x, [1])\n",
    "        else:                 # matrix\n",
    "            new_x = np.concatenate(\n",
    "                [x, np.ones((x.shape[0], 1))],\n",
    "                axis=1\n",
    "            )\n",
    "        self._out = sigmoid(np.matmul(\n",
    "            new_x, self._weights))\n",
    "        return self._out\n",
    "    \n",
    "    def backword(self, y=None):\n",
    "        new_y = y if y is not None else self._out\n",
    "        new_y = np.sum(new_y.reshape(-1, 1), 0)\n",
    "        # print(new_y)\n",
    "        gradient = new_y\n",
    "        self._weights -= gradient * self._learning_rate\n",
    "        if self._prev:\n",
    "            self._prev._out = gradient\n",
    "        return self\n",
    "    \n",
    "    def __repr__(self):\n",
    "        return '<{}: {:4d} =>{:4d}, lr={:.4f}>' \\\n",
    "            .format(self._name, self.shape[0], self.shape[1], self._learning_rate)\n",
    "\n",
    "# linear = LinearLayer(7, 2, random_init=False) # 7 in, 2 out\n",
    "# print(linear)\n",
    "# print(linear.forward(np.random.randn(500, 7))) # batch size of 500\n",
    "# grad = np.random.randn(1, 2); print(grad)\n",
    "# print(linear.backword(grad)._weights)"
   ]
  },
  {
   "cell_type": "code",
   "execution_count": 10,
   "metadata": {},
   "outputs": [],
   "source": [
    "class LinearLogisticClassifier:\n",
    "    \n",
    "    def __init__(self, features, classes, hidden, *args, **kwargs):\n",
    "        # get model shape\n",
    "        hidden.insert(0, features)\n",
    "        hidden.append(classes)\n",
    "        # insert first layer\n",
    "        self._series = [ LinearLayer(hidden[0], hidden[1], *args, **kwargs) ]\n",
    "        # insert more layers\n",
    "        for hidden_size in hidden[2:]:\n",
    "            self._series.append(\n",
    "                LinearLayer(self._series[-1].shape[1], hidden_size, *args, **kwargs))\n",
    "            self._series[-2]._next = self._series[-1]\n",
    "            self._series[-1]._prev = self._series[-2]\n",
    "        # check model definition\n",
    "        for each in self._series: print(each)\n",
    "            \n",
    "    def forward(self, x):\n",
    "        result = x\n",
    "        for layer in self._series:\n",
    "            result = layer.forward(result)\n",
    "        return result\n",
    "    \n",
    "    def backword(self, label):\n",
    "        self._series[-1]._out = derivative_cross_entropy(\n",
    "            self._series[-1]._out, label\n",
    "        )\n",
    "        for layer in reversed(self._series):\n",
    "            layer.backword()\n",
    "\n",
    "    \n",
    "    def predict(self, x):\n",
    "        return softmax(self.forward(x))\n",
    "\n",
    "# model = LinearLogisticClassifier(7, 2, [ ])\n",
    "# model.forward(np.random.randn(7))\n",
    "# model.backword(np.random.randn(2))\n",
    "# model.predict(np.random.randn(7))"
   ]
  },
  {
   "cell_type": "markdown",
   "metadata": {},
   "source": [
    "## Proof of Model Convergence"
   ]
  },
  {
   "cell_type": "code",
   "execution_count": 11,
   "metadata": {
    "scrolled": true
   },
   "outputs": [
    {
     "name": "stdout",
     "output_type": "stream",
     "text": [
      "<LinearLayer:    9 =>  10, lr=0.0010>\n",
      "<LinearLayer:   11 =>   1, lr=0.0010>\n"
     ]
    },
    {
     "data": {
      "image/png": "[encoded data removed]",
      "text/plain": [
       "<Figure size 432x288 with 1 Axes>"
      ]
     },
     "metadata": {},
     "output_type": "display_data"
    }
   ],
   "source": [
    "model = LinearLogisticClassifier(8, 1, [ 10 ], learning_rate=1e-3, random_init=True)\n",
    "\n",
    "errors = []\n",
    "\n",
    "for iteration in range(10):\n",
    "    for each in training_set.itertuples():\n",
    "        data = normalize(each[1:-1], data_highests, data_lowests)\n",
    "        # label = np.zeros(2); label[each[-1]] = 1\n",
    "        label = 1 if each[-1] else 1\n",
    "        # print(data, '==>', label)\n",
    "        if (each[0] * iteration) % 20 == 0:\n",
    "            # print('{}-th iteration'.format(each[0] + 1))\n",
    "            pass\n",
    "        hypothesis = model.forward(data)\n",
    "        # print(hypothesis)\n",
    "        errors.append(np.sum(cross_entropy(hypothesis, label)))\n",
    "        model.backword(label)\n",
    "    \n",
    "# print(errors)\n",
    "plt.plot(errors)\n",
    "plt.show()"
   ]
  },
  {
   "cell_type": "markdown",
   "metadata": {},
   "source": [
    "## Start Learning"
   ]
  },
  {
   "cell_type": "code",
   "execution_count": 12,
   "metadata": {},
   "outputs": [
    {
     "name": "stdout",
     "output_type": "stream",
     "text": [
      "<LinearLayer:    9 =>  20, lr=0.0000>\n",
      "<LinearLayer:   21 =>  20, lr=0.0000>\n",
      "<LinearLayer:   21 =>  20, lr=0.0000>\n",
      "<LinearLayer:   21 =>  20, lr=0.0000>\n",
      "<LinearLayer:   21 =>  20, lr=0.0000>\n",
      "<LinearLayer:   21 =>  20, lr=0.0000>\n",
      "<LinearLayer:   21 =>  20, lr=0.0000>\n",
      "<LinearLayer:   21 =>  20, lr=0.0000>\n",
      "<LinearLayer:   21 =>  20, lr=0.0000>\n",
      "<LinearLayer:   21 =>  20, lr=0.0000>\n",
      "<LinearLayer:   21 =>  20, lr=0.0000>\n",
      "<LinearLayer:   21 =>  20, lr=0.0000>\n",
      "<LinearLayer:   21 =>  20, lr=0.0000>\n",
      "<LinearLayer:   21 =>  20, lr=0.0000>\n",
      "<LinearLayer:   21 =>  20, lr=0.0000>\n",
      "<LinearLayer:   21 =>  20, lr=0.0000>\n",
      "<LinearLayer:   21 =>  20, lr=0.0000>\n",
      "<LinearLayer:   21 =>  20, lr=0.0000>\n",
      "<LinearLayer:   21 =>  20, lr=0.0000>\n",
      "<LinearLayer:   21 =>  20, lr=0.0000>\n",
      "<LinearLayer:   21 =>   1, lr=0.0000>\n"
     ]
    },
    {
     "data": {
      "image/png": "[encoded data removed]",
      "text/plain": [
       "<Figure size 432x288 with 1 Axes>"
      ]
     },
     "metadata": {},
     "output_type": "display_data"
    },
    {
     "name": "stdout",
     "output_type": "stream",
     "text": [
      "\n",
      "Pretty smooth convergence. But error values are still high...\n",
      "\n",
      "The scikit-learn example in `./salted_fish_sklearn.ipynb` shows\n",
      "that regularization plays vital rule!\n",
      "\n"
     ]
    }
   ],
   "source": [
    "model = LinearLogisticClassifier(8, 1, [ 20 for _ in range(20)], learning_rate=1e-5, random_init=True)\n",
    "\n",
    "errors = []\n",
    "\n",
    "for iteration in range(300):\n",
    "    datas = normalize(training_set.iloc[:, :-1], data_highests, data_lowests)\n",
    "    labels = training_set.iloc[:, -1]\n",
    "    hypothesis = model.forward(datas) # NOTE: All data in **ONE BATCH!**\n",
    "                                      #       Utilizing all matrix accelerations.\n",
    "    errors.append(np.sum(cross_entropy(hypothesis, labels)))\n",
    "    model.backword(labels)\n",
    "    \n",
    "plt.plot(errors)\n",
    "plt.show()\n",
    "\n",
    "print('''\n",
    "Pretty smooth convergence. But error values are still high...\n",
    "\n",
    "The scikit-learn example in `./salted_fish_sklearn.ipynb` shows\n",
    "that regularization plays vital rule!\n",
    "''')"
   ]
  },
  {
   "cell_type": "markdown",
   "metadata": {},
   "source": [
    "## Moment of Truth!"
   ]
  },
  {
   "cell_type": "code",
   "execution_count": 13,
   "metadata": {},
   "outputs": [
    {
     "name": "stdout",
     "output_type": "stream",
     "text": [
      "accuracy on test set: 64.6154\n",
      "\n",
      "Sometimes, it would yield an accuracy of approx. 35%,\n",
      "the same result you'll get with scikit-learn's `LogisticRegression`,\n",
      "if you leave all hyper-parameters as default.\n",
      "\n"
     ]
    },
    {
     "name": "stderr",
     "output_type": "stream",
     "text": [
      "/usr/lib/python3.6/site-packages/ipykernel_launcher.py:2: RuntimeWarning: overflow encountered in exp\n",
      "  \n"
     ]
    }
   ],
   "source": [
    "clean_test_set = test_set.dropna()\n",
    "test_feature, test_label = clean_test_set.iloc[:, :-1], clean_test_set.iloc[:, -1]\n",
    "\n",
    "prediction = model.forward(test_feature)\n",
    "prediction = (prediction > 0.5).flatten()\n",
    "\n",
    "accuracy = np.sum(prediction == test_label) / prediction.shape[0]\n",
    "print('accuracy on test set: {:.4f}'.format(accuracy * 100))\n",
    "\n",
    "print('''\n",
    "Sometimes, when th emit would yield an accuracy of approx. 35%,\n",
    "the same result you'll get with scikit-learn's `LogisticRegression`,\n",
    "if you leave all hyper-parameters as default.\n",
    "''')"
   ]
  },
  {
   "cell_type": "code",
   "execution_count": 14,
   "metadata": {},
   "outputs": [],
   "source": [
    "if all(prediction):\n",
    "    print('''\n",
    "This would very likely to happen if you get accuracy of 35%,\n",
    "when the model would actually learn nothing and decided\n",
    "that everyone is *salted fish* :-)\n",
    "''')"
   ]
  }
 ],
 "metadata": {
  "kernelspec": {
   "display_name": "Python 3",
   "language": "python",
   "name": "python3"
  },
  "language_info": {
   "codemirror_mode": {
    "name": "ipython",
    "version": 3
   },
   "file_extension": ".py",
   "mimetype": "text/x-python",
   "name": "python",
   "nbconvert_exporter": "python",
   "pygments_lexer": "ipython3",
   "version": "3.6.5"
  }
 },
 "nbformat": 4,
 "nbformat_minor": 2
}
