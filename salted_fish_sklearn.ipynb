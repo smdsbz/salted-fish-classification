{
 "cells": [
  {
   "cell_type": "code",
   "execution_count": 1,
   "metadata": {},
   "outputs": [
    {
     "data": {
      "text/html": [
       "<div>\n",
       "<style scoped>\n",
       "    .dataframe tbody tr th:only-of-type {\n",
       "        vertical-align: middle;\n",
       "    }\n",
       "\n",
       "    .dataframe tbody tr th {\n",
       "        vertical-align: top;\n",
       "    }\n",
       "\n",
       "    .dataframe thead th {\n",
       "        text-align: right;\n",
       "    }\n",
       "</style>\n",
       "<table border=\"1\" class=\"dataframe\">\n",
       "  <thead>\n",
       "    <tr style=\"text-align: right;\">\n",
       "      <th></th>\n",
       "      <th>0</th>\n",
       "      <th>1</th>\n",
       "      <th>2</th>\n",
       "      <th>3</th>\n",
       "      <th>4</th>\n",
       "      <th>5</th>\n",
       "      <th>6</th>\n",
       "      <th>7</th>\n",
       "      <th>8</th>\n",
       "    </tr>\n",
       "  </thead>\n",
       "  <tbody>\n",
       "    <tr>\n",
       "      <th>0</th>\n",
       "      <td>0.156</td>\n",
       "      <td>5</td>\n",
       "      <td>35.8</td>\n",
       "      <td>82.0</td>\n",
       "      <td>42.0</td>\n",
       "      <td>77.0</td>\n",
       "      <td>41.0</td>\n",
       "      <td>35</td>\n",
       "      <td>0</td>\n",
       "    </tr>\n",
       "    <tr>\n",
       "      <th>2</th>\n",
       "      <td>0.283</td>\n",
       "      <td>1</td>\n",
       "      <td>26.6</td>\n",
       "      <td>72.0</td>\n",
       "      <td>40.0</td>\n",
       "      <td>81.0</td>\n",
       "      <td>18.0</td>\n",
       "      <td>24</td>\n",
       "      <td>0</td>\n",
       "    </tr>\n",
       "    <tr>\n",
       "      <th>3</th>\n",
       "      <td>0.463</td>\n",
       "      <td>4</td>\n",
       "      <td>22.1</td>\n",
       "      <td>72.0</td>\n",
       "      <td>87.0</td>\n",
       "      <td>116.0</td>\n",
       "      <td>12.0</td>\n",
       "      <td>37</td>\n",
       "      <td>0</td>\n",
       "    </tr>\n",
       "    <tr>\n",
       "      <th>4</th>\n",
       "      <td>0.352</td>\n",
       "      <td>0</td>\n",
       "      <td>26.4</td>\n",
       "      <td>58.0</td>\n",
       "      <td>291.0</td>\n",
       "      <td>134.0</td>\n",
       "      <td>20.0</td>\n",
       "      <td>21</td>\n",
       "      <td>0</td>\n",
       "    </tr>\n",
       "    <tr>\n",
       "      <th>5</th>\n",
       "      <td>0.400</td>\n",
       "      <td>3</td>\n",
       "      <td>30.8</td>\n",
       "      <td>44.0</td>\n",
       "      <td>94.0</td>\n",
       "      <td>102.0</td>\n",
       "      <td>20.0</td>\n",
       "      <td>26</td>\n",
       "      <td>0</td>\n",
       "    </tr>\n",
       "  </tbody>\n",
       "</table>\n",
       "</div>"
      ],
      "text/plain": [
       "       0  1     2     3      4      5     6   7  8\n",
       "0  0.156  5  35.8  82.0   42.0   77.0  41.0  35  0\n",
       "2  0.283  1  26.6  72.0   40.0   81.0  18.0  24  0\n",
       "3  0.463  4  22.1  72.0   87.0  116.0  12.0  37  0\n",
       "4  0.352  0  26.4  58.0  291.0  134.0  20.0  21  0\n",
       "5  0.400  3  30.8  44.0   94.0  102.0  20.0  26  0"
      ]
     },
     "execution_count": 1,
     "metadata": {},
     "output_type": "execute_result"
    }
   ],
   "source": [
    "import pandas as pd\n",
    "import numpy as np\n",
    "import matplotlib.pyplot as plt\n",
    "\n",
    "%matplotlib inline\n",
    "\n",
    "# NOTE: `header=None`, I dun give a f*** bout what the data is\n",
    "training_set = pd.read_csv('./salted_fish_train.csv', header=None).dropna()\n",
    "test_set = pd.read_csv('./salted_fish_test.csv', header=None).dropna()\n",
    "\n",
    "training_set.iloc[:].head()"
   ]
  },
  {
   "cell_type": "code",
   "execution_count": 2,
   "metadata": {},
   "outputs": [],
   "source": [
    "import scipy\n",
    "from sklearn.linear_model import LogisticRegression\n",
    "from sklearn.preprocessing import StandardScaler\n",
    "\n",
    "training_feature, training_label = training_set.iloc[:, :8], training_set.iloc[:, -1]\n",
    "test_feature, test_label = test_set.iloc[:, :8], test_set.iloc[:, -1]\n",
    "# training_feature.head()"
   ]
  },
  {
   "cell_type": "markdown",
   "metadata": {},
   "source": [
    "## Normalization"
   ]
  },
  {
   "cell_type": "code",
   "execution_count": 3,
   "metadata": {},
   "outputs": [],
   "source": [
    "scaler = StandardScaler()\n",
    "training_feature = scaler.fit_transform(training_feature)\n",
    "# training_feature.shape"
   ]
  },
  {
   "cell_type": "markdown",
   "metadata": {},
   "source": [
    "## Create Model - Logistic Regression\n",
    "\n",
    "**NOTE:**  \n",
    "`C=1e-3, penalty='l1'"
   ]
  },
  {
   "cell_type": "code",
   "execution_count": 4,
   "metadata": {},
   "outputs": [
    {
     "name": "stdout",
     "output_type": "stream",
     "text": [
      "accuracy on training set: 67.9389%\n",
      "accuracy on test set:     64.6154%\n"
     ]
    }
   ],
   "source": [
    "clf = LogisticRegression(C=1e-4, penalty='l1', solver='saga', n_jobs=2)\n",
    "clf.fit(training_feature, training_label)\n",
    "\n",
    "print('accuracy on training set: {:.4f}%'.format(\n",
    "    clf.score(training_feature, training_label) * 100))\n",
    "print('accuracy on test set:     {:.4f}%'.format(\n",
    "    clf.score(test_feature, test_label) * 100))"
   ]
  },
  {
   "cell_type": "code",
   "execution_count": 7,
   "metadata": {},
   "outputs": [
    {
     "name": "stdout",
     "output_type": "stream",
     "text": [
      "\n",
      "Default settings:\n",
      "Will get **EXACTLY** same result as in\n",
      "`./salted_fish_self-implementation.ipynb`\n",
      "\n",
      "accuracy on training set: 78.6260%\n",
      "accuracy on test set:     35.3846%\n"
     ]
    }
   ],
   "source": [
    "print('''\n",
    "Default settings:\n",
    "Will get **EXACTLY** same result as in\n",
    "`./salted_fish_self-implementation.ipynb`\n",
    "''')\n",
    "clf = LogisticRegression()\n",
    "clf.fit(training_feature, training_label)\n",
    "\n",
    "print('accuracy on training set: {:.4f}%'.format(\n",
    "    clf.score(training_feature, training_label) * 100))\n",
    "print('accuracy on test set:     {:.4f}%'.format(\n",
    "    clf.score(test_feature, test_label) * 100))"
   ]
  }
 ],
 "metadata": {
  "kernelspec": {
   "display_name": "Python 3",
   "language": "python",
   "name": "python3"
  },
  "language_info": {
   "codemirror_mode": {
    "name": "ipython",
    "version": 3
   },
   "file_extension": ".py",
   "mimetype": "text/x-python",
   "name": "python",
   "nbconvert_exporter": "python",
   "pygments_lexer": "ipython3",
   "version": "3.6.5"
  }
 },
 "nbformat": 4,
 "nbformat_minor": 2
}
